{
 "cells": [
  {
   "attachments": {},
   "cell_type": "markdown",
   "metadata": {
    "id": "HJo9DBYMg5db"
   },
   "source": [
    "## Q1. Find five recipes that you like the most from any of the online repositories. \n",
    "### (a) Extract and represent the information from them in the traditional form (ingredients and cooking instructions); example below. \n"
   ]
  },
  {
   "attachments": {},
   "cell_type": "markdown",
   "metadata": {
    "id": "tGjbuR1Ckf-q"
   },
   "source": [
    "## First Recepie (Tandoori Roti):\n",
    "\n",
    "**Ingredients:**\n",
    "     \n",
    "     1 cup whole wheat floor\n",
    "     1 tsp dry yeast\n",
    "     1 tsp sugar\n",
    "     1 tsp finely choped garlic\n",
    "     salt to taste\n",
    "     1 tsp oil\n",
    "\n",
    "<br>**Steps:**<br>\n",
    "  \n",
    "    1. Combine the dry yeast, sugar and 1 tbsp of warm water in bowl, mix well and cover and keep aside for 10 minutes.\n",
    "    2. Combine all the ingredients, including the yeast mixture into a deep bowl and knead into a soft dough using enough water.\n",
    "    3. Cover with damp muslin\n",
    "    4. Divide the dough into 8 equal portions.\n",
    "    5. Roll a portion of the dough into 150 mm.\n",
    "    6. Cook it on an open flame till it puffs up and brown spots appear on both sides\n",
    "\n",
    "<br>\n",
    "\n",
    "## Second Recepie (Omlet in Bowl)\n",
    "\n",
    "**Ingredients:**\n",
    "    2 Eggs\n",
    "    Salt\n",
    "    pepper\n",
    "    onion\n",
    "    tomatoes\n",
    "    green chillies\n",
    "    garlic\n",
    "\n",
    "   \n",
    "Method:\n",
    "\n",
    "1. Break eggs in bowl\n",
    "\n",
    "2. Add salt and pepper as per taste\n",
    "\n",
    "3. Add onion, tomatoes, green chilli\n",
    "\n",
    "4. Wisk and put it in microwave for 2,3 min\n",
    "    \n",
    "<br>\n",
    "\n",
    "## Third Recepie (Moong Daal ka Shorba)\n",
    "\n",
    "**Ingredients:**\n",
    "    3/4 cup yellow moong daal\n",
    "    1/2 cup finely chopped onion\n",
    "    1 slit green chilli\n",
    "    1/2 tsp chopped ginger\n",
    "    1/2 tsp turmeric powder\n",
    "    1 tsp garam masala\n",
    "    salt\n",
    "    1 tsp ghee\n",
    "    1 tbsp finely chopped garlic\n",
    "\n",
    "**Steps:**\n",
    "\n",
    "1. Combine the dal, onion, tonatoes, green chilli, chilli powder, ginger, turmeric powder, garam masala, salt and 2 cups of water, mix well and cook for 3 whistles\n",
    "2. Heat the ghee in deep kadhai, add the garluc and saute on a flame for a few seconds\n",
    "3. Add the cooked moong-daal mixture and 1 cup of water, mix well using a whisk and cook on a medium before flame for 1 to 2 min\n",
    "4. Add 1 more cup of water, mix well and cook on a medium flame for 3 to 4 min, while stirring occasionally with help of whisk. Finally discard the green chilli.\n",
    "\n",
    "<br>\n",
    "\n",
    "## Fourth Recepie (Kande ke Pakode)\n",
    "\n",
    "**Ingredients** \n",
    "\n",
    "    1 cup besan\n",
    "    1/4 cup rice flour\n",
    "    1/4 tsp hing\n",
    "    1 1/2 tsp chilli powder\n",
    "    a pinch of baking soda\n",
    "    1 tbsp hot oil\n",
    "    salt\n",
    "    1 cup of water\n",
    "\n",
    "**Steps**\n",
    "\n",
    "1.   Combine the kand slices, black salt, asafoetida, chilli powder and lemon juice in a depp bowl and toss well\n",
    "2.   Heat oil, dip few slices of yam into the prepared batter and deep-fry till they are golden brown in colour\n",
    "3.   Drain on an absorbant paper\n",
    "\n",
    "<br>\n",
    "\n",
    "## Fifth Recepie (Dahi-Pohe)\n",
    "\n",
    "**Ingredients** \n",
    "\n",
    "    1 green chilli\n",
    "    kadi patta\n",
    "    mustered seeds\n",
    "    1/2 tsp cumin seeds\n",
    "    1/2 tsp urad dal\n",
    "    4 cashewnuts\n",
    "    3 tsp oil\n",
    "\n",
    "\n",
    "**Method:**\n",
    "\n",
    "1.  Wash and drain poha\n",
    "\n",
    "2.  Add yoghurt and salt\n",
    "\n",
    "3.  Add oil to kadhai and warm it\n",
    "\n",
    "4.  Add green chillies and kadi patta\n",
    "\n",
    "5. Pour seasoningon poha and mix nicely\n",
    "\n",
    "6. if poha is dry add some more yoghurt\n",
    "\n",
    "7. garnish it with finely chopped coriander leaves\n"
   ]
  },
  {
   "attachments": {},
   "cell_type": "markdown",
   "metadata": {
    "id": "q5AwziMrn4xf"
   },
   "source": [
    "(b) Further, store the recipes in the form of a (Recipe ID)—(Ingredient Name) form. [5]"
   ]
  },
  {
   "attachments": {},
   "cell_type": "markdown",
   "metadata": {
    "id": "DmJXHBMon7G2"
   },
   "source": [
    "TR - Wheat flour\n",
    "TR - dry yeast\n",
    "TR -  sugar\n",
    "TR - garlic\n",
    "TR - oil\n",
    "\n",
    "**************************************** \n",
    "omlet - egg \n",
    "omlet - pepper  \n",
    "omlet - onion \n",
    "omlet - green chillies  \n",
    "omlet - tomato  \n",
    "omlet - garlic  \n",
    "****************************************\n",
    "MDS - moong dal\n",
    "MDS - ghee \n",
    "MDS - onions  \n",
    "MDS - green chilli \n",
    "MDS - ginger\n",
    "MDS - garlic\n",
    "MDS - garam masala \n",
    "**************************************\n",
    "Pak - besan \n",
    "Pak - rice flour \n",
    "Pak - hing\n",
    "Pak - chilli powder  \n",
    "Pak - oil  \n",
    "***********************************\n",
    "Poha - green chilli \n",
    "Poha - kadi patta\n",
    "Poha - cumin seeds  \n",
    "Poha - urad dal \n",
    "Poha - kaju   \n",
    " "
   ]
  },
  {
   "attachments": {},
   "cell_type": "markdown",
   "metadata": {
    "id": "AgPOetU_pMWI"
   },
   "source": [
    "(c) In general, as well as specific to each recipe, comment on which aspects of the recipes are\n",
    "being lost in the process of coarse-graining the recipe data? "
   ]
  },
  {
   "attachments": {},
   "cell_type": "markdown",
   "metadata": {
    "id": "_KVOF4odpWRx"
   },
   "source": [
    "Things lost while coarse graining the recipe data:  \n",
    "1. Ingredients used\n",
    "2. Amount of ingredients\n",
    "3. state of the ingredient that is liquid or solid or semi liquid.\n",
    "4. order in which ingredients to be used to make the perfect dish\n",
    "5. cooking method (microwave, gas, chullah etc)"
   ]
  },
  {
   "attachments": {},
   "cell_type": "markdown",
   "metadata": {
    "id": "DZQMRT71pWbH"
   },
   "source": [
    "(d) How could one possibly mitigate this to extract the most details from the recipes? [5]"
   ]
  },
  {
   "attachments": {},
   "cell_type": "markdown",
   "metadata": {
    "id": "bcvOk8plp6iu"
   },
   "source": [
    "We can add other features like type of ingredients added (same ingredient can appear in different types accordin to geography), time for which have to wait to put the next ingredient, state of the ingredient  \n",
    "\n",
    "Then we can apply feature selection methods to choose the IMP features."
   ]
  },
  {
   "attachments": {},
   "cell_type": "markdown",
   "metadata": {
    "id": "ukXpwEuazTRG"
   },
   "source": [
    "# Q2   "
   ]
  },
  {
   "cell_type": "code",
   "execution_count": 10,
   "metadata": {
    "colab": {
     "base_uri": "https://localhost:8080/"
    },
    "executionInfo": {
     "elapsed": 378,
     "status": "ok",
     "timestamp": 1628231998107,
     "user": {
      "displayName": "Shivam Batra",
      "photoUrl": "",
      "userId": "02250546950069840963"
     },
     "user_tz": -330
    },
    "id": "JlwoV5SNViYZ",
    "outputId": "551dfe75-6032-4a4e-9c84-96875910ebe9"
   },
   "outputs": [
    {
     "name": "stdout",
     "output_type": "stream",
     "text": [
      "[nltk_data] Downloading package stopwords to /root/nltk_data...\n",
      "[nltk_data]   Package stopwords is already up-to-date!\n",
      "[nltk_data] Downloading package punkt to /root/nltk_data...\n",
      "[nltk_data]   Package punkt is already up-to-date!\n"
     ]
    }
   ],
   "source": [
    "#Importing all necessary libraries\n",
    "\n",
    "import pandas as pd\n",
    "import warnings\n",
    "warnings.filterwarnings(\"ignore\")\n",
    "import numpy as np\n",
    "import seaborn as sns\n",
    "import matplotlib.pyplot as plt\n",
    "import json\n",
    "import re\n",
    "import nltk\n",
    "nltk.download('stopwords')\n",
    "import nltk\n",
    "nltk.download('punkt')\n",
    "from sklearn.naive_bayes import MultinomialNB\n",
    "from nltk.corpus import stopwords\n",
    "from sklearn.metrics import accuracy_score\n",
    "from sklearn.feature_extraction.text import CountVectorizer\n",
    "from sklearn.feature_extraction.text import TfidfVectorizer\n",
    "from nltk.tokenize import word_tokenize\n",
    "from nltk.stem import PorterStemmer\n",
    "from nltk.tokenize import sent_tokenize, word_tokenize\n",
    "#from sklearn.preprocessing import Imputer\n",
    "from sklearn.model_selection import train_test_split\n",
    "from sklearn.neighbors import KNeighborsClassifier"
   ]
  },
  {
   "cell_type": "code",
   "execution_count": 11,
   "metadata": {
    "colab": {
     "base_uri": "https://localhost:8080/"
    },
    "executionInfo": {
     "elapsed": 389,
     "status": "ok",
     "timestamp": 1628232002877,
     "user": {
      "displayName": "Shivam Batra",
      "photoUrl": "",
      "userId": "02250546950069840963"
     },
     "user_tz": -330
    },
    "id": "fUHKH4czeFe0",
    "outputId": "e95d2597-bea4-43e7-9a86-b2c56ac5c66c"
   },
   "outputs": [
    {
     "name": "stdout",
     "output_type": "stream",
     "text": [
      "Drive already mounted at /content/drive; to attempt to forcibly remount, call drive.mount(\"/content/drive\", force_remount=True).\n"
     ]
    }
   ],
   "source": [
    "#Mounting the drive in colab\n",
    "from google.colab import drive\n",
    "drive.mount('/content/drive')"
   ]
  },
  {
   "cell_type": "code",
   "execution_count": 12,
   "metadata": {
    "colab": {
     "base_uri": "https://localhost:8080/",
     "height": 204
    },
    "executionInfo": {
     "elapsed": 2172,
     "status": "ok",
     "timestamp": 1628232007170,
     "user": {
      "displayName": "Shivam Batra",
      "photoUrl": "",
      "userId": "02250546950069840963"
     },
     "user_tz": -330
    },
    "id": "EV-603Y3ZkDs",
    "outputId": "cab8db18-458b-46ea-8a9c-5d7a8c10a11a"
   },
   "outputs": [
    {
     "data": {
      "text/html": [
       "<div>\n",
       "<style scoped>\n",
       "    .dataframe tbody tr th:only-of-type {\n",
       "        vertical-align: middle;\n",
       "    }\n",
       "\n",
       "    .dataframe tbody tr th {\n",
       "        vertical-align: top;\n",
       "    }\n",
       "\n",
       "    .dataframe thead th {\n",
       "        text-align: right;\n",
       "    }\n",
       "</style>\n",
       "<table border=\"1\" class=\"dataframe\">\n",
       "  <thead>\n",
       "    <tr style=\"text-align: right;\">\n",
       "      <th></th>\n",
       "      <th>id</th>\n",
       "      <th>cuisine</th>\n",
       "      <th>ingredients</th>\n",
       "    </tr>\n",
       "  </thead>\n",
       "  <tbody>\n",
       "    <tr>\n",
       "      <th>0</th>\n",
       "      <td>10259</td>\n",
       "      <td>greek</td>\n",
       "      <td>[romaine lettuce, black olives, grape tomatoes...</td>\n",
       "    </tr>\n",
       "    <tr>\n",
       "      <th>1</th>\n",
       "      <td>25693</td>\n",
       "      <td>southern_us</td>\n",
       "      <td>[plain flour, ground pepper, salt, tomatoes, g...</td>\n",
       "    </tr>\n",
       "    <tr>\n",
       "      <th>2</th>\n",
       "      <td>20130</td>\n",
       "      <td>filipino</td>\n",
       "      <td>[eggs, pepper, salt, mayonaise, cooking oil, g...</td>\n",
       "    </tr>\n",
       "    <tr>\n",
       "      <th>3</th>\n",
       "      <td>22213</td>\n",
       "      <td>indian</td>\n",
       "      <td>[water, vegetable oil, wheat, salt]</td>\n",
       "    </tr>\n",
       "    <tr>\n",
       "      <th>4</th>\n",
       "      <td>13162</td>\n",
       "      <td>indian</td>\n",
       "      <td>[black pepper, shallots, cornflour, cayenne pe...</td>\n",
       "    </tr>\n",
       "  </tbody>\n",
       "</table>\n",
       "</div>"
      ],
      "text/plain": [
       "      id      cuisine                                        ingredients\n",
       "0  10259        greek  [romaine lettuce, black olives, grape tomatoes...\n",
       "1  25693  southern_us  [plain flour, ground pepper, salt, tomatoes, g...\n",
       "2  20130     filipino  [eggs, pepper, salt, mayonaise, cooking oil, g...\n",
       "3  22213       indian                [water, vegetable oil, wheat, salt]\n",
       "4  13162       indian  [black pepper, shallots, cornflour, cayenne pe..."
      ]
     },
     "execution_count": 12,
     "metadata": {
      "tags": []
     },
     "output_type": "execute_result"
    }
   ],
   "source": [
    "#Here we have imported the library\n",
    "#Reading Train dataset in json\n",
    "Train = pd.read_json('/content/drive/MyDrive/Colab Notebooks/train.json') \n",
    "Train.head() #This gives the head view of the dataset"
   ]
  },
  {
   "cell_type": "code",
   "execution_count": 14,
   "metadata": {
    "colab": {
     "base_uri": "https://localhost:8080/",
     "height": 204
    },
    "executionInfo": {
     "elapsed": 1410,
     "status": "ok",
     "timestamp": 1628232034949,
     "user": {
      "displayName": "Shivam Batra",
      "photoUrl": "",
      "userId": "02250546950069840963"
     },
     "user_tz": -330
    },
    "id": "MyyF5HPIZ5-b",
    "outputId": "ff83517e-947b-4901-f246-41e35913aca5"
   },
   "outputs": [
    {
     "data": {
      "text/html": [
       "<div>\n",
       "<style scoped>\n",
       "    .dataframe tbody tr th:only-of-type {\n",
       "        vertical-align: middle;\n",
       "    }\n",
       "\n",
       "    .dataframe tbody tr th {\n",
       "        vertical-align: top;\n",
       "    }\n",
       "\n",
       "    .dataframe thead th {\n",
       "        text-align: right;\n",
       "    }\n",
       "</style>\n",
       "<table border=\"1\" class=\"dataframe\">\n",
       "  <thead>\n",
       "    <tr style=\"text-align: right;\">\n",
       "      <th></th>\n",
       "      <th>id</th>\n",
       "      <th>ingredients</th>\n",
       "    </tr>\n",
       "  </thead>\n",
       "  <tbody>\n",
       "    <tr>\n",
       "      <th>0</th>\n",
       "      <td>18009</td>\n",
       "      <td>[baking powder, eggs, all-purpose flour, raisi...</td>\n",
       "    </tr>\n",
       "    <tr>\n",
       "      <th>1</th>\n",
       "      <td>28583</td>\n",
       "      <td>[sugar, egg yolks, corn starch, cream of tarta...</td>\n",
       "    </tr>\n",
       "    <tr>\n",
       "      <th>2</th>\n",
       "      <td>41580</td>\n",
       "      <td>[sausage links, fennel bulb, fronds, olive oil...</td>\n",
       "    </tr>\n",
       "    <tr>\n",
       "      <th>3</th>\n",
       "      <td>29752</td>\n",
       "      <td>[meat cuts, file powder, smoked sausage, okra,...</td>\n",
       "    </tr>\n",
       "    <tr>\n",
       "      <th>4</th>\n",
       "      <td>35687</td>\n",
       "      <td>[ground black pepper, salt, sausage casings, l...</td>\n",
       "    </tr>\n",
       "  </tbody>\n",
       "</table>\n",
       "</div>"
      ],
      "text/plain": [
       "      id                                        ingredients\n",
       "0  18009  [baking powder, eggs, all-purpose flour, raisi...\n",
       "1  28583  [sugar, egg yolks, corn starch, cream of tarta...\n",
       "2  41580  [sausage links, fennel bulb, fronds, olive oil...\n",
       "3  29752  [meat cuts, file powder, smoked sausage, okra,...\n",
       "4  35687  [ground black pepper, salt, sausage casings, l..."
      ]
     },
     "execution_count": 14,
     "metadata": {
      "tags": []
     },
     "output_type": "execute_result"
    }
   ],
   "source": [
    "#Here we have imported the test dataset\n",
    "#Reading the Test dataset in json\n",
    "Test = pd.read_json('/content/drive/MyDrive/Colab Notebooks/test.json') \n",
    "Test.head() #The headview of the test dataset"
   ]
  },
  {
   "attachments": {},
   "cell_type": "markdown",
   "metadata": {
    "id": "Fj-SHFw1iHBm"
   },
   "source": [
    "(a) Find number of recipes, number of unique ingredients, number of cuisines."
   ]
  },
  {
   "cell_type": "code",
   "execution_count": 15,
   "metadata": {
    "colab": {
     "base_uri": "https://localhost:8080/"
    },
    "executionInfo": {
     "elapsed": 462,
     "status": "ok",
     "timestamp": 1628232040756,
     "user": {
      "displayName": "Shivam Batra",
      "photoUrl": "",
      "userId": "02250546950069840963"
     },
     "user_tz": -330
    },
    "id": "0hhJAo68cgOX",
    "outputId": "36f3cde5-3708-4522-a104-1acc3c3d9478"
   },
   "outputs": [
    {
     "name": "stdout",
     "output_type": "stream",
     "text": [
      "The number of Unique Reciepies are -  39774\n"
     ]
    }
   ],
   "source": [
    "print('The number of Unique Reciepies are - ',len(Train.id.unique()))"
   ]
  },
  {
   "cell_type": "code",
   "execution_count": 17,
   "metadata": {
    "colab": {
     "base_uri": "https://localhost:8080/"
    },
    "executionInfo": {
     "elapsed": 712,
     "status": "ok",
     "timestamp": 1628232051071,
     "user": {
      "displayName": "Shivam Batra",
      "photoUrl": "",
      "userId": "02250546950069840963"
     },
     "user_tz": -330
    },
    "id": "Lc6POdzGavxm",
    "outputId": "5a48dcbd-e913-4deb-ae73-456de2424506"
   },
   "outputs": [
    {
     "name": "stdout",
     "output_type": "stream",
     "text": [
      "The number of Unique Ingredients comes out to be -  6714\n"
     ]
    }
   ],
   "source": [
    "#For the unique incredients\n",
    "ingredients = [ ]\n",
    "for i in Train.ingredients: #For loop used\n",
    "  for j in i:\n",
    "    ingredients.append(j)\n",
    "    \n",
    "print('The number of Unique Ingredients comes out to be - ',len(set(ingredients)))"
   ]
  },
  {
   "cell_type": "code",
   "execution_count": 18,
   "metadata": {
    "colab": {
     "base_uri": "https://localhost:8080/"
    },
    "executionInfo": {
     "elapsed": 11,
     "status": "ok",
     "timestamp": 1628232051072,
     "user": {
      "displayName": "Shivam Batra",
      "photoUrl": "",
      "userId": "02250546950069840963"
     },
     "user_tz": -330
    },
    "id": "cu-0SyWybQW8",
    "outputId": "763ec5a6-7246-4f55-bf0b-5e7bd5f6e9b9"
   },
   "outputs": [
    {
     "name": "stdout",
     "output_type": "stream",
     "text": [
      "The number of Unique Cuisines are-  20\n"
     ]
    }
   ],
   "source": [
    "print('The number of Unique Cuisines are- ',len(Train.cuisine.unique()))\n",
    "c = Train.cuisine.unique()"
   ]
  },
  {
   "cell_type": "code",
   "execution_count": 19,
   "metadata": {
    "executionInfo": {
     "elapsed": 8,
     "status": "ok",
     "timestamp": 1628232051074,
     "user": {
      "displayName": "Shivam Batra",
      "photoUrl": "",
      "userId": "02250546950069840963"
     },
     "user_tz": -330
    },
    "id": "XiKY1se-dfL6"
   },
   "outputs": [],
   "source": [
    "cu = []\n",
    "rec = []\n",
    "for i in c:\n",
    "  das = Train.loc[ Train.cuisine == i ]\n",
    "  rece = len(das.id.unique())\n",
    "  cu.append(i)\n",
    "  rec.append(rece)"
   ]
  },
  {
   "attachments": {},
   "cell_type": "markdown",
   "metadata": {
    "id": "PRTfIU_QiDsa"
   },
   "source": [
    "(b) Plot the statistics (bar plot) of number of recipes for each cuisine."
   ]
  },
  {
   "cell_type": "code",
   "execution_count": 20,
   "metadata": {
    "colab": {
     "base_uri": "https://localhost:8080/",
     "height": 415
    },
    "executionInfo": {
     "elapsed": 1044,
     "status": "ok",
     "timestamp": 1628232052110,
     "user": {
      "displayName": "Shivam Batra",
      "photoUrl": "",
      "userId": "02250546950069840963"
     },
     "user_tz": -330
    },
    "id": "a7znmipEcQtB",
    "outputId": "ffac1467-9e13-448e-c493-1fdda3bb65b3"
   },
   "outputs": [
    {
     "data": {
      "text/plain": [
       "(array([ 0,  1,  2,  3,  4,  5,  6,  7,  8,  9, 10, 11, 12, 13, 14, 15, 16,\n",
       "        17, 18, 19]), <a list of 20 Text major ticklabel objects>)"
      ]
     },
     "execution_count": 20,
     "metadata": {
      "tags": []
     },
     "output_type": "execute_result"
    },
    {
     "data": {
      "image/png": "[encoded data removed]",
      "text/plain": [
       "<Figure size 720x360 with 1 Axes>"
      ]
     },
     "metadata": {
      "needs_background": "light",
      "tags": []
     },
     "output_type": "display_data"
    }
   ],
   "source": [
    "sns.set_theme\n",
    "fig, ax = plt.subplots(figsize=(10, 5))\n",
    "ax = sns.barplot(x=cu, y=rec)\n",
    "plt.xlabel(\"Cuisines\")\n",
    "plt.ylabel(\"Recipies\")\n",
    "plt.xticks(rotation=55)"
   ]
  },
  {
   "attachments": {},
   "cell_type": "markdown",
   "metadata": {
    "id": "ih3vZbI7iIlM"
   },
   "source": [
    "(c) Plot the recipe size distribution for each cuisine as well as for all the \n",
    "recipes.\n"
   ]
  },
  {
   "cell_type": "code",
   "execution_count": 21,
   "metadata": {
    "colab": {
     "base_uri": "https://localhost:8080/",
     "height": 419
    },
    "executionInfo": {
     "elapsed": 27943,
     "status": "ok",
     "timestamp": 1628232080046,
     "user": {
      "displayName": "Shivam Batra",
      "photoUrl": "",
      "userId": "02250546950069840963"
     },
     "user_tz": -330
    },
    "id": "Qf4teFm3hcWA",
    "outputId": "654efcf6-76db-46cf-a96c-c26e90178ac0"
   },
   "outputs": [
    {
     "data": {
      "text/html": [
       "<div>\n",
       "<style scoped>\n",
       "    .dataframe tbody tr th:only-of-type {\n",
       "        vertical-align: middle;\n",
       "    }\n",
       "\n",
       "    .dataframe tbody tr th {\n",
       "        vertical-align: top;\n",
       "    }\n",
       "\n",
       "    .dataframe thead th {\n",
       "        text-align: right;\n",
       "    }\n",
       "</style>\n",
       "<table border=\"1\" class=\"dataframe\">\n",
       "  <thead>\n",
       "    <tr style=\"text-align: right;\">\n",
       "      <th></th>\n",
       "      <th>id</th>\n",
       "      <th>cuisine</th>\n",
       "      <th>ingredients</th>\n",
       "      <th>total_ingr</th>\n",
       "    </tr>\n",
       "  </thead>\n",
       "  <tbody>\n",
       "    <tr>\n",
       "      <th>0</th>\n",
       "      <td>10259</td>\n",
       "      <td>greek</td>\n",
       "      <td>[romaine lettuce, black olives, grape tomatoes...</td>\n",
       "      <td>9.0</td>\n",
       "    </tr>\n",
       "    <tr>\n",
       "      <th>1</th>\n",
       "      <td>25693</td>\n",
       "      <td>southern_us</td>\n",
       "      <td>[plain flour, ground pepper, salt, tomatoes, g...</td>\n",
       "      <td>11.0</td>\n",
       "    </tr>\n",
       "    <tr>\n",
       "      <th>2</th>\n",
       "      <td>20130</td>\n",
       "      <td>filipino</td>\n",
       "      <td>[eggs, pepper, salt, mayonaise, cooking oil, g...</td>\n",
       "      <td>12.0</td>\n",
       "    </tr>\n",
       "    <tr>\n",
       "      <th>3</th>\n",
       "      <td>22213</td>\n",
       "      <td>indian</td>\n",
       "      <td>[water, vegetable oil, wheat, salt]</td>\n",
       "      <td>4.0</td>\n",
       "    </tr>\n",
       "    <tr>\n",
       "      <th>4</th>\n",
       "      <td>13162</td>\n",
       "      <td>indian</td>\n",
       "      <td>[black pepper, shallots, cornflour, cayenne pe...</td>\n",
       "      <td>20.0</td>\n",
       "    </tr>\n",
       "    <tr>\n",
       "      <th>...</th>\n",
       "      <td>...</td>\n",
       "      <td>...</td>\n",
       "      <td>...</td>\n",
       "      <td>...</td>\n",
       "    </tr>\n",
       "    <tr>\n",
       "      <th>39769</th>\n",
       "      <td>29109</td>\n",
       "      <td>irish</td>\n",
       "      <td>[light brown sugar, granulated sugar, butter, ...</td>\n",
       "      <td>12.0</td>\n",
       "    </tr>\n",
       "    <tr>\n",
       "      <th>39770</th>\n",
       "      <td>11462</td>\n",
       "      <td>italian</td>\n",
       "      <td>[KRAFT Zesty Italian Dressing, purple onion, b...</td>\n",
       "      <td>7.0</td>\n",
       "    </tr>\n",
       "    <tr>\n",
       "      <th>39771</th>\n",
       "      <td>2238</td>\n",
       "      <td>irish</td>\n",
       "      <td>[eggs, citrus fruit, raisins, sourdough starte...</td>\n",
       "      <td>12.0</td>\n",
       "    </tr>\n",
       "    <tr>\n",
       "      <th>39772</th>\n",
       "      <td>41882</td>\n",
       "      <td>chinese</td>\n",
       "      <td>[boneless chicken skinless thigh, minced garli...</td>\n",
       "      <td>21.0</td>\n",
       "    </tr>\n",
       "    <tr>\n",
       "      <th>39773</th>\n",
       "      <td>2362</td>\n",
       "      <td>mexican</td>\n",
       "      <td>[green chile, jalapeno chilies, onions, ground...</td>\n",
       "      <td>12.0</td>\n",
       "    </tr>\n",
       "  </tbody>\n",
       "</table>\n",
       "<p>39774 rows × 4 columns</p>\n",
       "</div>"
      ],
      "text/plain": [
       "          id  ... total_ingr\n",
       "0      10259  ...        9.0\n",
       "1      25693  ...       11.0\n",
       "2      20130  ...       12.0\n",
       "3      22213  ...        4.0\n",
       "4      13162  ...       20.0\n",
       "...      ...  ...        ...\n",
       "39769  29109  ...       12.0\n",
       "39770  11462  ...        7.0\n",
       "39771   2238  ...       12.0\n",
       "39772  41882  ...       21.0\n",
       "39773   2362  ...       12.0\n",
       "\n",
       "[39774 rows x 4 columns]"
      ]
     },
     "execution_count": 21,
     "metadata": {
      "tags": []
     },
     "output_type": "execute_result"
    }
   ],
   "source": [
    "for i in range(Train.shape[0]):\n",
    "  Train.loc[i,'total_ingr'] = len(Train.loc[i,'ingredients'])\n",
    "Train"
   ]
  },
  {
   "cell_type": "code",
   "execution_count": 22,
   "metadata": {
    "colab": {
     "base_uri": "https://localhost:8080/",
     "height": 386
    },
    "executionInfo": {
     "elapsed": 1723,
     "status": "ok",
     "timestamp": 1628232081756,
     "user": {
      "displayName": "Shivam Batra",
      "photoUrl": "",
      "userId": "02250546950069840963"
     },
     "user_tz": -330
    },
    "id": "eiTNN6vakjrl",
    "outputId": "ddadf8b6-fd49-4b96-ee80-c227b00ea09f"
   },
   "outputs": [
    {
     "data": {
      "text/plain": [
       "<seaborn.axisgrid.FacetGrid at 0x7f8dfa82d890>"
      ]
     },
     "execution_count": 22,
     "metadata": {
      "tags": []
     },
     "output_type": "execute_result"
    },
    {
     "data": {
      "image/png": "[encoded data removed]",
      "text/plain": [
       "<Figure size 458.75x360 with 1 Axes>"
      ]
     },
     "metadata": {
      "needs_background": "light",
      "tags": []
     },
     "output_type": "display_data"
    }
   ],
   "source": [
    "# Plotting the recipe Size distribution for individual cuisine\n",
    "sns.displot(Train, x=\"total_ingr\", kind=\"kde\", hue='cuisine')"
   ]
  },
  {
   "attachments": {},
   "cell_type": "markdown",
   "metadata": {
    "id": "mQvP9lb_zpXY"
   },
   "source": [
    "\n",
    "(d) Plot cumulative distribution of recipe size and interpret"
   ]
  },
  {
   "cell_type": "code",
   "execution_count": 24,
   "metadata": {
    "colab": {
     "base_uri": "https://localhost:8080/",
     "height": 301
    },
    "executionInfo": {
     "elapsed": 26,
     "status": "ok",
     "timestamp": 1628232723935,
     "user": {
      "displayName": "Shivam Batra",
      "photoUrl": "",
      "userId": "02250546950069840963"
     },
     "user_tz": -330
    },
    "id": "z8M6IG2x8P-S",
    "outputId": "afaeab85-2dba-4923-e086-8e0af54edf9e"
   },
   "outputs": [
    {
     "data": {
      "text/plain": [
       "<matplotlib.axes._subplots.AxesSubplot at 0x7f8de7601950>"
      ]
     },
     "execution_count": 24,
     "metadata": {
      "tags": []
     },
     "output_type": "execute_result"
    },
    {
     "data": {
      "image/png": "[encoded data removed]",
      "text/plain": [
       "<Figure size 432x288 with 1 Axes>"
      ]
     },
     "metadata": {
      "needs_background": "light",
      "tags": []
     },
     "output_type": "display_data"
    }
   ],
   "source": [
    "# Plotting the cumulative distribution of recipe size and interpret\n",
    "sns.ecdfplot(Train, x=\"total_ingr\")"
   ]
  },
  {
   "attachments": {},
   "cell_type": "markdown",
   "metadata": {
    "id": "tAt3yoemQlqD"
   },
   "source": []
  },
  {
   "attachments": {},
   "cell_type": "markdown",
   "metadata": {
    "id": "4CeJrM2dqm-a"
   },
   "source": [
    "Interpretations: \n",
    "\n",
    "We can conclude that almost every dish has more tha 30 ingredients.<br>   \n",
    "Most probable recipe belong to an Italian cuisine followed by Mexican cuisin."
   ]
  },
  {
   "attachments": {},
   "cell_type": "markdown",
   "metadata": {
    "id": "MCK_k7KG9B3D"
   },
   "source": [
    "# Q3."
   ]
  },
  {
   "cell_type": "code",
   "execution_count": 25,
   "metadata": {
    "executionInfo": {
     "elapsed": 18769,
     "status": "ok",
     "timestamp": 1628232742691,
     "user": {
      "displayName": "Shivam Batra",
      "photoUrl": "",
      "userId": "02250546950069840963"
     },
     "user_tz": -330
    },
    "id": "ER1w6m-K9CmQ"
   },
   "outputs": [],
   "source": [
    "df = Train.copy()\n",
    "s = df.apply(lambda x: pd.Series(x['ingredients']),axis=1).stack().reset_index(level=1, drop=True)\n",
    "s.name = 'ingredient'\n",
    "df = df.join(s)"
   ]
  },
  {
   "attachments": {},
   "cell_type": "markdown",
   "metadata": {
    "id": "pejCl6pH9E_c"
   },
   "source": [
    "(a) Plot the frequency-rank distribution for all the recipes and interpret. [3]\n",
    "\n"
   ]
  },
  {
   "cell_type": "code",
   "execution_count": 26,
   "metadata": {
    "colab": {
     "base_uri": "https://localhost:8080/",
     "height": 450
    },
    "executionInfo": {
     "elapsed": 39,
     "status": "ok",
     "timestamp": 1628232742702,
     "user": {
      "displayName": "Shivam Batra",
      "photoUrl": "",
      "userId": "02250546950069840963"
     },
     "user_tz": -330
    },
    "id": "f94Gaj0zUGmR",
    "outputId": "1601e9e8-98ad-46c3-d0a7-48f36cc012ca"
   },
   "outputs": [
    {
     "data": {
      "text/html": [
       "<div>\n",
       "<style scoped>\n",
       "    .dataframe tbody tr th:only-of-type {\n",
       "        vertical-align: middle;\n",
       "    }\n",
       "\n",
       "    .dataframe tbody tr th {\n",
       "        vertical-align: top;\n",
       "    }\n",
       "\n",
       "    .dataframe thead th {\n",
       "        text-align: right;\n",
       "    }\n",
       "</style>\n",
       "<table border=\"1\" class=\"dataframe\">\n",
       "  <thead>\n",
       "    <tr style=\"text-align: right;\">\n",
       "      <th></th>\n",
       "      <th>id</th>\n",
       "      <th>ranks</th>\n",
       "    </tr>\n",
       "    <tr>\n",
       "      <th>ingredient</th>\n",
       "      <th></th>\n",
       "      <th></th>\n",
       "    </tr>\n",
       "  </thead>\n",
       "  <tbody>\n",
       "    <tr>\n",
       "      <th>(    oz.) tomato sauce</th>\n",
       "      <td>11</td>\n",
       "      <td>4489.0</td>\n",
       "    </tr>\n",
       "    <tr>\n",
       "      <th>(   oz.) tomato paste</th>\n",
       "      <td>9</td>\n",
       "      <td>4246.5</td>\n",
       "    </tr>\n",
       "    <tr>\n",
       "      <th>(10 oz.) frozen chopped spinach</th>\n",
       "      <td>3</td>\n",
       "      <td>2797.5</td>\n",
       "    </tr>\n",
       "    <tr>\n",
       "      <th>(10 oz.) frozen chopped spinach, thawed and squeezed dry</th>\n",
       "      <td>2</td>\n",
       "      <td>2157.5</td>\n",
       "    </tr>\n",
       "    <tr>\n",
       "      <th>(14 oz.) sweetened condensed milk</th>\n",
       "      <td>2</td>\n",
       "      <td>2157.5</td>\n",
       "    </tr>\n",
       "    <tr>\n",
       "      <th>...</th>\n",
       "      <td>...</td>\n",
       "      <td>...</td>\n",
       "    </tr>\n",
       "    <tr>\n",
       "      <th>zesty italian dressing</th>\n",
       "      <td>17</td>\n",
       "      <td>4896.5</td>\n",
       "    </tr>\n",
       "    <tr>\n",
       "      <th>zinfandel</th>\n",
       "      <td>10</td>\n",
       "      <td>4378.5</td>\n",
       "    </tr>\n",
       "    <tr>\n",
       "      <th>ziti</th>\n",
       "      <td>29</td>\n",
       "      <td>5343.5</td>\n",
       "    </tr>\n",
       "    <tr>\n",
       "      <th>zucchini</th>\n",
       "      <td>892</td>\n",
       "      <td>6624.0</td>\n",
       "    </tr>\n",
       "    <tr>\n",
       "      <th>zucchini blossoms</th>\n",
       "      <td>2</td>\n",
       "      <td>2157.5</td>\n",
       "    </tr>\n",
       "  </tbody>\n",
       "</table>\n",
       "<p>6714 rows × 2 columns</p>\n",
       "</div>"
      ],
      "text/plain": [
       "                                                     id   ranks\n",
       "ingredient                                                     \n",
       "(    oz.) tomato sauce                               11  4489.0\n",
       "(   oz.) tomato paste                                 9  4246.5\n",
       "(10 oz.) frozen chopped spinach                       3  2797.5\n",
       "(10 oz.) frozen chopped spinach, thawed and squ...    2  2157.5\n",
       "(14 oz.) sweetened condensed milk                     2  2157.5\n",
       "...                                                 ...     ...\n",
       "zesty italian dressing                               17  4896.5\n",
       "zinfandel                                            10  4378.5\n",
       "ziti                                                 29  5343.5\n",
       "zucchini                                            892  6624.0\n",
       "zucchini blossoms                                     2  2157.5\n",
       "\n",
       "[6714 rows x 2 columns]"
      ]
     },
     "execution_count": 26,
     "metadata": {
      "tags": []
     },
     "output_type": "execute_result"
    }
   ],
   "source": [
    "count = df.groupby(['ingredient']).count()\n",
    "count = count.iloc[:,:1]\n",
    "count['ranks'] = count['id'].rank()\n",
    "count"
   ]
  },
  {
   "cell_type": "code",
   "execution_count": 27,
   "metadata": {
    "colab": {
     "base_uri": "https://localhost:8080/",
     "height": 296
    },
    "executionInfo": {
     "elapsed": 24,
     "status": "ok",
     "timestamp": 1628232742705,
     "user": {
      "displayName": "Shivam Batra",
      "photoUrl": "",
      "userId": "02250546950069840963"
     },
     "user_tz": -330
    },
    "id": "_L1D8ZfQWC5S",
    "outputId": "13d21bc2-1802-4d32-8514-b2881790b738"
   },
   "outputs": [
    {
     "data": {
      "text/plain": [
       "<matplotlib.axes._subplots.AxesSubplot at 0x7f8df8f25c10>"
      ]
     },
     "execution_count": 27,
     "metadata": {
      "tags": []
     },
     "output_type": "execute_result"
    },
    {
     "data": {
      "image/png": "[encoded data removed]",
      "text/plain": [
       "<Figure size 432x288 with 1 Axes>"
      ]
     },
     "metadata": {
      "needs_background": "light",
      "tags": []
     },
     "output_type": "display_data"
    }
   ],
   "source": [
    "#Plotting the scatterplot here\n",
    "sns.scatterplot(data=count, x=\"ranks\", y=\"id\")"
   ]
  },
  {
   "attachments": {},
   "cell_type": "markdown",
   "metadata": {
    "id": "IjO4A_Tx9G_j"
   },
   "source": [
    "(b) List the 10 most popular ingredients in the recipes. [2] "
   ]
  },
  {
   "cell_type": "code",
   "execution_count": 28,
   "metadata": {
    "colab": {
     "base_uri": "https://localhost:8080/"
    },
    "executionInfo": {
     "elapsed": 19,
     "status": "ok",
     "timestamp": 1628232742706,
     "user": {
      "displayName": "Shivam Batra",
      "photoUrl": "",
      "userId": "02250546950069840963"
     },
     "user_tz": -330
    },
    "id": "7_0bBDLY9HWX",
    "outputId": "5f624838-2f20-4815-a343-55314e4ee4b4"
   },
   "outputs": [
    {
     "data": {
      "text/plain": [
       "ingredient\n",
       "hot pepperoni          1\n",
       "matcha                 1\n",
       "matsutake mushrooms    1\n",
       "matzo cake meal        1\n",
       "matzos                 1\n",
       "celery powder          1\n",
       "meat drippings         1\n",
       "meat extract           1\n",
       "meat fats              1\n",
       "ceci bean              1\n",
       "meat loaf mixture      1\n",
       "Name: id, dtype: int64"
      ]
     },
     "execution_count": 28,
     "metadata": {
      "tags": []
     },
     "output_type": "execute_result"
    }
   ],
   "source": [
    "count = count.sort_values(by=['ranks'])\n",
    "count.id[:11]"
   ]
  },
  {
   "attachments": {},
   "cell_type": "markdown",
   "metadata": {
    "id": "cd5yLQJa9Jum"
   },
   "source": [
    "(c) Plot the ingredient-rank distribution for each of the cuisines and list the most popular\n",
    "ingredients for each cuisine"
   ]
  },
  {
   "cell_type": "code",
   "execution_count": 29,
   "metadata": {
    "colab": {
     "base_uri": "https://localhost:8080/",
     "height": 419
    },
    "executionInfo": {
     "elapsed": 1487,
     "status": "ok",
     "timestamp": 1628232744176,
     "user": {
      "displayName": "Shivam Batra",
      "photoUrl": "",
      "userId": "02250546950069840963"
     },
     "user_tz": -330
    },
    "id": "X9LlEPb69KMa",
    "outputId": "2b080bfe-1696-41c0-afe7-6ea90d4865c8"
   },
   "outputs": [
    {
     "data": {
      "text/html": [
       "<div>\n",
       "<style scoped>\n",
       "    .dataframe tbody tr th:only-of-type {\n",
       "        vertical-align: middle;\n",
       "    }\n",
       "\n",
       "    .dataframe tbody tr th {\n",
       "        vertical-align: top;\n",
       "    }\n",
       "\n",
       "    .dataframe thead th {\n",
       "        text-align: right;\n",
       "    }\n",
       "</style>\n",
       "<table border=\"1\" class=\"dataframe\">\n",
       "  <thead>\n",
       "    <tr style=\"text-align: right;\">\n",
       "      <th></th>\n",
       "      <th>ingredient</th>\n",
       "      <th>cuisine</th>\n",
       "    </tr>\n",
       "  </thead>\n",
       "  <tbody>\n",
       "    <tr>\n",
       "      <th>0</th>\n",
       "      <td>(    oz.) tomato sauce</td>\n",
       "      <td>italian</td>\n",
       "    </tr>\n",
       "    <tr>\n",
       "      <th>1</th>\n",
       "      <td>(   oz.) tomato paste</td>\n",
       "      <td>italian</td>\n",
       "    </tr>\n",
       "    <tr>\n",
       "      <th>2</th>\n",
       "      <td>(10 oz.) frozen chopped spinach</td>\n",
       "      <td>italian</td>\n",
       "    </tr>\n",
       "    <tr>\n",
       "      <th>3</th>\n",
       "      <td>(10 oz.) frozen chopped spinach, thawed and sq...</td>\n",
       "      <td>greek</td>\n",
       "    </tr>\n",
       "    <tr>\n",
       "      <th>4</th>\n",
       "      <td>(14 oz.) sweetened condensed milk</td>\n",
       "      <td>indian</td>\n",
       "    </tr>\n",
       "    <tr>\n",
       "      <th>...</th>\n",
       "      <td>...</td>\n",
       "      <td>...</td>\n",
       "    </tr>\n",
       "    <tr>\n",
       "      <th>6709</th>\n",
       "      <td>zesty italian dressing</td>\n",
       "      <td>italian</td>\n",
       "    </tr>\n",
       "    <tr>\n",
       "      <th>6710</th>\n",
       "      <td>zinfandel</td>\n",
       "      <td>french</td>\n",
       "    </tr>\n",
       "    <tr>\n",
       "      <th>6711</th>\n",
       "      <td>ziti</td>\n",
       "      <td>italian</td>\n",
       "    </tr>\n",
       "    <tr>\n",
       "      <th>6712</th>\n",
       "      <td>zucchini</td>\n",
       "      <td>italian</td>\n",
       "    </tr>\n",
       "    <tr>\n",
       "      <th>6713</th>\n",
       "      <td>zucchini blossoms</td>\n",
       "      <td>italian</td>\n",
       "    </tr>\n",
       "  </tbody>\n",
       "</table>\n",
       "<p>6714 rows × 2 columns</p>\n",
       "</div>"
      ],
      "text/plain": [
       "                                             ingredient  cuisine\n",
       "0                                (    oz.) tomato sauce  italian\n",
       "1                                 (   oz.) tomato paste  italian\n",
       "2                       (10 oz.) frozen chopped spinach  italian\n",
       "3     (10 oz.) frozen chopped spinach, thawed and sq...    greek\n",
       "4                     (14 oz.) sweetened condensed milk   indian\n",
       "...                                                 ...      ...\n",
       "6709                             zesty italian dressing  italian\n",
       "6710                                          zinfandel   french\n",
       "6711                                               ziti  italian\n",
       "6712                                           zucchini  italian\n",
       "6713                                  zucchini blossoms  italian\n",
       "\n",
       "[6714 rows x 2 columns]"
      ]
     },
     "execution_count": 29,
     "metadata": {
      "tags": []
     },
     "output_type": "execute_result"
    }
   ],
   "source": [
    "# For popularoty of ingredients as per cuisines\n",
    "s = df.groupby(['ingredient', 'cuisine']).size()\n",
    "df = s.loc[s.groupby(level=0).idxmax()].reset_index().drop(0,axis=1)\n",
    "df"
   ]
  },
  {
   "attachments": {},
   "cell_type": "markdown",
   "metadata": {
    "id": "j5QvlBIa9M14"
   },
   "source": [
    "(d) What is your interpretation of the results? [5]"
   ]
  },
  {
   "attachments": {},
   "cell_type": "markdown",
   "metadata": {
    "id": "pUaTsNv4t8jh"
   },
   "source": [
    "***The most common ingredient appears fourteen times.\n",
    "In comparison to the simple power plot, the log power plot provides a superior interpretation plot.***"
   ]
  }
 ],
 "metadata": {
  "colab": {
   "collapsed_sections": [],
   "name": "OPD 20022_Computational Gastronomy.ipynb",
   "provenance": []
  },
  "kernelspec": {
   "display_name": "Python 3",
   "language": "python",
   "name": "python3"
  },
  "language_info": {
   "codemirror_mode": {
    "name": "ipython",
    "version": 3
   },
   "file_extension": ".py",
   "mimetype": "text/x-python",
   "name": "python",
   "nbconvert_exporter": "python",
   "pygments_lexer": "ipython3",
   "version": "3.7.4"
  }
 },
 "nbformat": 4,
 "nbformat_minor": 1
}
